{
 "cells": [
  {
   "cell_type": "markdown",
   "id": "30691468",
   "metadata": {},
   "source": [
    "# initilizing setup.py"
   ]
  },
  {
   "cell_type": "code",
   "execution_count": 3,
   "id": "f5deb3b5",
   "metadata": {},
   "outputs": [],
   "source": [
    "import setup \n",
    "setup.init()"
   ]
  },
  {
   "cell_type": "code",
   "execution_count": 4,
   "id": "a131d3ea",
   "metadata": {},
   "outputs": [],
   "source": [
    "from IPython.display import display"
   ]
  },
  {
   "cell_type": "markdown",
   "id": "f5a7f439",
   "metadata": {},
   "source": [
    "# user model"
   ]
  },
  {
   "cell_type": "markdown",
   "id": "06621ae7",
   "metadata": {},
   "source": [
    "### init"
   ]
  },
  {
   "cell_type": "code",
   "execution_count": 5,
   "id": "f85a8b12",
   "metadata": {},
   "outputs": [
    {
     "data": {
      "text/plain": [
       "<QuerySet [<User: jiten>]>"
      ]
     },
     "metadata": {},
     "output_type": "display_data"
    }
   ],
   "source": [
    "from django.contrib.auth import get_user_model\n",
    "\n",
    "User = get_user_model()\n",
    "\n",
    "users = User.objects.all()[:5]\n",
    "display(users)"
   ]
  },
  {
   "cell_type": "markdown",
   "id": "d8653b20",
   "metadata": {},
   "source": [
    "## get user"
   ]
  },
  {
   "cell_type": "code",
   "execution_count": null,
   "id": "1a41643f",
   "metadata": {},
   "outputs": [],
   "source": []
  },
  {
   "cell_type": "markdown",
   "id": "e32115aa",
   "metadata": {},
   "source": [
    "### by username"
   ]
  },
  {
   "cell_type": "code",
   "execution_count": null,
   "id": "badb4c2f",
   "metadata": {},
   "outputs": [],
   "source": [
    "user_obj = User.objects.get(username=\"jiten\")\n",
    "display(f\"object: {user_obj} & id: {user_obj.pk}\")"
   ]
  },
  {
   "cell_type": "markdown",
   "id": "08290143",
   "metadata": {},
   "source": [
    "### get by username and set attributes"
   ]
  },
  {
   "cell_type": "code",
   "execution_count": 7,
   "id": "7bbb09f7",
   "metadata": {},
   "outputs": [
    {
     "data": {
      "text/plain": [
       "'object: test'"
      ]
     },
     "metadata": {},
     "output_type": "display_data"
    }
   ],
   "source": [
    "user_obj = User.objects.get(\n",
    "    username=\"test\"\n",
    ")\n",
    "user_obj.is_staff = False # can login to Djanngo admin or not\n",
    "\n",
    "# django form -> html form -> api request\n",
    "user_obj.set_password(\"test\")\n",
    "\n",
    "user_obj.save()\n",
    "display(f\"object: {user_obj}\")"
   ]
  },
  {
   "cell_type": "markdown",
   "id": "2418e84f",
   "metadata": {},
   "source": [
    "## create user"
   ]
  },
  {
   "cell_type": "markdown",
   "id": "a5a543c5",
   "metadata": {},
   "source": [
    "### create a new user"
   ]
  },
  {
   "cell_type": "code",
   "execution_count": 6,
   "id": "796f55a2",
   "metadata": {},
   "outputs": [
    {
     "data": {
      "text/plain": [
       "<User: test>"
      ]
     },
     "metadata": {},
     "output_type": "display_data"
    }
   ],
   "source": [
    "user_obj = User.objects.create(\n",
    "   username=\"test\",\n",
    ")\n",
    "display(user_obj)"
   ]
  },
  {
   "cell_type": "markdown",
   "id": "2af55ff4",
   "metadata": {},
   "source": [
    "# document model"
   ]
  },
  {
   "cell_type": "code",
   "execution_count": null,
   "id": "c098a352",
   "metadata": {},
   "outputs": [],
   "source": [
    "from documents.models import Document\n",
    "\n",
    "doc = Document.objects.all()[:2]\n",
    "\n",
    "display(doc)"
   ]
  },
  {
   "cell_type": "markdown",
   "id": "0e617c22",
   "metadata": {},
   "source": [
    "## get document"
   ]
  },
  {
   "cell_type": "code",
   "execution_count": null,
   "id": "8c9ebb6e",
   "metadata": {},
   "outputs": [],
   "source": [
    "doc = Document.objects.get(owner=user_obj)\n",
    "\n",
    "display(doc)"
   ]
  },
  {
   "cell_type": "markdown",
   "id": "0db847f5",
   "metadata": {},
   "source": [
    "## create document"
   ]
  },
  {
   "cell_type": "code",
   "execution_count": null,
   "id": "544a1cf6",
   "metadata": {},
   "outputs": [],
   "source": [
    "doc_obj = Document(\n",
    "    owner=user_obj,\n",
    "    title=\"Hello world by Ace\"\n",
    ")\n",
    "doc_obj.save()\n",
    "display(doc_obj)"
   ]
  }
 ],
 "metadata": {
  "kernelspec": {
   "display_name": ".venv",
   "language": "python",
   "name": "python3"
  },
  "language_info": {
   "codemirror_mode": {
    "name": "ipython",
    "version": 3
   },
   "file_extension": ".py",
   "mimetype": "text/x-python",
   "name": "python",
   "nbconvert_exporter": "python",
   "pygments_lexer": "ipython3",
   "version": "3.13.2"
  }
 },
 "nbformat": 4,
 "nbformat_minor": 5
}
