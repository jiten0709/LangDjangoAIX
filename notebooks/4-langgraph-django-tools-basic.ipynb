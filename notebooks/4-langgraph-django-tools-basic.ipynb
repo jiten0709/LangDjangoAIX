{
 "cells": [
  {
   "cell_type": "markdown",
   "id": "204bba12",
   "metadata": {},
   "source": [
    "# initilization"
   ]
  },
  {
   "cell_type": "code",
   "execution_count": null,
   "id": "a555f8e8",
   "metadata": {},
   "outputs": [
    {
     "ename": "ImportError",
     "evalue": "cannot import name 'list_documents' from 'ai.tools' (/Users/hi/jitenStuff/MyGit/LangDjangoAIX/src/ai/tools/__init__.py)",
     "output_type": "error",
     "traceback": [
      "\u001b[31m---------------------------------------------------------------------------\u001b[39m",
      "\u001b[31mImportError\u001b[39m                               Traceback (most recent call last)",
      "\u001b[36mCell\u001b[39m\u001b[36m \u001b[39m\u001b[32mIn[2]\u001b[39m\u001b[32m, line 4\u001b[39m\n\u001b[32m      1\u001b[39m \u001b[38;5;28;01mimport\u001b[39;00m\u001b[38;5;250m \u001b[39m\u001b[34;01msetup\u001b[39;00m \n\u001b[32m      2\u001b[39m setup.init()\n\u001b[32m----> \u001b[39m\u001b[32m4\u001b[39m \u001b[38;5;28;01mfrom\u001b[39;00m\u001b[38;5;250m \u001b[39m\u001b[34;01mai\u001b[39;00m\u001b[34;01m.\u001b[39;00m\u001b[34;01mtools\u001b[39;00m\u001b[38;5;250m \u001b[39m\u001b[38;5;28;01mimport\u001b[39;00m list_documents\n",
      "\u001b[31mImportError\u001b[39m: cannot import name 'list_documents' from 'ai.tools' (/Users/hi/jitenStuff/MyGit/LangDjangoAIX/src/ai/tools/__init__.py)"
     ]
    }
   ],
   "source": [
    "import setup \n",
    "setup.init()\n",
    "\n",
    "from ai.tools import document_tools"
   ]
  },
  {
   "cell_type": "code",
   "execution_count": 3,
   "id": "489c7c23",
   "metadata": {},
   "outputs": [
    {
     "name": "stdout",
     "output_type": "stream",
     "text": [
      "[<function list_documents at 0x123731760>]\n"
     ]
    }
   ],
   "source": [
    "print(document_tools)"
   ]
  },
  {
   "cell_type": "code",
   "execution_count": null,
   "id": "29946ae4",
   "metadata": {},
   "outputs": [],
   "source": []
  }
 ],
 "metadata": {
  "kernelspec": {
   "display_name": ".venv",
   "language": "python",
   "name": "python3"
  },
  "language_info": {
   "codemirror_mode": {
    "name": "ipython",
    "version": 3
   },
   "file_extension": ".py",
   "mimetype": "text/x-python",
   "name": "python",
   "nbconvert_exporter": "python",
   "pygments_lexer": "ipython3",
   "version": "3.13.2"
  }
 },
 "nbformat": 4,
 "nbformat_minor": 5
}
