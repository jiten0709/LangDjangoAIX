{
 "cells": [
  {
   "cell_type": "markdown",
   "id": "4707e62e",
   "metadata": {},
   "source": [
    "# initilization"
   ]
  },
  {
   "cell_type": "code",
   "execution_count": 1,
   "id": "58ee3e9d",
   "metadata": {},
   "outputs": [],
   "source": [
    "import setup  # notebooks/setup.py\n",
    "setup.init()\n",
    "\n",
    "from mypermit import permit_client\n",
    "\n",
    "permit = permit_client\n",
    "\n",
    "model = \"openai/gpt-4.1\""
   ]
  },
  {
   "cell_type": "markdown",
   "id": "68c4e3ad",
   "metadata": {},
   "source": [
    "# list permit users"
   ]
  },
  {
   "cell_type": "code",
   "execution_count": 2,
   "id": "4a6877e3",
   "metadata": {},
   "outputs": [
    {
     "data": {
      "text/plain": [
       "PaginatedResultUserRead(data=[UserRead(key='1', id=UUID('9720f4b9-9e11-4519-865d-3712c1d21d6a'), organization_id=UUID('7680023d-5778-431c-9b4f-384741468a14'), project_id=UUID('0365bf3b-2a3e-400e-9731-f970b8f29748'), environment_id=UUID('54cd4df8-dcfc-4fc6-9f97-ff1ead4e2a3d'), associated_tenants=[], roles=[], created_at=datetime.datetime(2025, 6, 26, 18, 23, 43, tzinfo=datetime.timezone.utc), updated_at=datetime.datetime(2025, 6, 26, 18, 23, 43, tzinfo=datetime.timezone.utc), email=None, first_name='jiten', last_name=None, attributes=None), UserRead(key='5', id=UUID('cfe59bfa-b710-4ea8-b5e2-bc803f96df58'), organization_id=UUID('7680023d-5778-431c-9b4f-384741468a14'), project_id=UUID('0365bf3b-2a3e-400e-9731-f970b8f29748'), environment_id=UUID('54cd4df8-dcfc-4fc6-9f97-ff1ead4e2a3d'), associated_tenants=[], roles=[], created_at=datetime.datetime(2025, 6, 26, 18, 23, 43, tzinfo=datetime.timezone.utc), updated_at=datetime.datetime(2025, 6, 26, 18, 23, 43, tzinfo=datetime.timezone.utc), email=None, first_name='test', last_name=None, attributes=None)], total_count=2, page_count=2)"
      ]
     },
     "execution_count": 2,
     "metadata": {},
     "output_type": "execute_result"
    }
   ],
   "source": [
    "await permit.api.users.list()"
   ]
  },
  {
   "cell_type": "code",
   "execution_count": 3,
   "id": "7ad67b91",
   "metadata": {},
   "outputs": [],
   "source": [
    "from django.contrib.auth import get_user_model\n",
    "\n",
    "User = get_user_model()"
   ]
  },
  {
   "cell_type": "markdown",
   "id": "3d8c872a",
   "metadata": {},
   "source": [
    "# add permit user"
   ]
  },
  {
   "cell_type": "code",
   "execution_count": null,
   "id": "2fa6dc86",
   "metadata": {},
   "outputs": [],
   "source": [
    "for u in User.objects.all():\n",
    "    user_data = {\n",
    "        \"key\": f\"{u.pk}\",\n",
    "        \"first_name\": f\"{u.username}\"\n",
    "    }\n",
    "    response = await permit.api.users.sync(user_data)\n",
    "    print(response)"
   ]
  },
  {
   "cell_type": "code",
   "execution_count": null,
   "id": "5039d894",
   "metadata": {},
   "outputs": [],
   "source": [
    "await permit.check(\"1\", \"read\", \"document\")"
   ]
  },
  {
   "cell_type": "markdown",
   "id": "e0857bf1",
   "metadata": {},
   "source": [
    "# create resources"
   ]
  },
  {
   "cell_type": "code",
   "execution_count": 4,
   "id": "8c26fc42",
   "metadata": {},
   "outputs": [],
   "source": [
    "resources = [\n",
    "    {\n",
    "        \"name\": \"Document\",\n",
    "        \"key\": \"document\",\n",
    "        \"actions\": {\n",
    "            \"read\": {},\n",
    "            \"create\": {},\n",
    "            \"update\": {},\n",
    "            \"delete\": {},\n",
    "        }\n",
    "    },\n",
    "    {\n",
    "        \"name\": \"Movie Discovery Resource\",\n",
    "        \"key\": \"movie_disovery\",\n",
    "        \"actions\": {\n",
    "            \"search\": {},\n",
    "            \"detail\": {},\n",
    "        }\n",
    "    }\n",
    "]"
   ]
  },
  {
   "cell_type": "code",
   "execution_count": 5,
   "id": "cf6e282a",
   "metadata": {},
   "outputs": [],
   "source": [
    "from permit import PermitApiError\n",
    "\n",
    "async def get_or_create_resource(resource_data:dict):\n",
    "    resource_key = resource_data.get('key')\n",
    "    try:\n",
    "        _resource = await permit.api.resources.get(resource_key)\n",
    "    except PermitApiError as e:\n",
    "        if e.status_code == 404:\n",
    "            _resource = await permit.api.resources.create(resource_data)\n",
    "        else:\n",
    "            raise e\n",
    "    return _resource"
   ]
  },
  {
   "cell_type": "code",
   "execution_count": 6,
   "id": "503c7dff",
   "metadata": {},
   "outputs": [
    {
     "name": "stdout",
     "output_type": "stream",
     "text": [
      "key='document' id=UUID('4962d03d-73ee-483a-a899-dffef4983797') organization_id=UUID('7680023d-5778-431c-9b4f-384741468a14') project_id=UUID('0365bf3b-2a3e-400e-9731-f970b8f29748') environment_id=UUID('54cd4df8-dcfc-4fc6-9f97-ff1ead4e2a3d') created_at=datetime.datetime(2025, 6, 25, 14, 30, 17, tzinfo=datetime.timezone.utc) updated_at=datetime.datetime(2025, 6, 25, 14, 30, 17, tzinfo=datetime.timezone.utc) name='Document' urn='prn:jiten:default:document' description=None actions={'delete': ActionBlockRead(name='delete', description=None, attributes=None, v1compat_path=None, v1compat_name=None, id=UUID('1131bdf4-8c8e-428e-8f6e-db7ea211e750'), key='delete'), 'update': ActionBlockRead(name='update', description=None, attributes=None, v1compat_path=None, v1compat_name=None, id=UUID('aeb2ec59-02b9-40d6-8a1b-841ad15aab72'), key='update'), 'create': ActionBlockRead(name='create', description=None, attributes=None, v1compat_path=None, v1compat_name=None, id=UUID('c983ef92-b255-4fb5-affa-d56af06142c7'), key='create'), 'read': ActionBlockRead(name='read', description=None, attributes=None, v1compat_path=None, v1compat_name=None, id=UUID('2c0e26d3-a2fb-460d-98c8-47b54c0ae132'), key='read')} type_attributes=None attributes={} roles={} relations={} v1compat_path=None v1compat_type=None v1compat_name=None action_groups={}\n",
      "key='movie_disovery' id=UUID('2104d1e1-6539-4de5-b241-3de6ea0069b7') organization_id=UUID('7680023d-5778-431c-9b4f-384741468a14') project_id=UUID('0365bf3b-2a3e-400e-9731-f970b8f29748') environment_id=UUID('54cd4df8-dcfc-4fc6-9f97-ff1ead4e2a3d') created_at=datetime.datetime(2025, 6, 26, 18, 42, 7, tzinfo=datetime.timezone.utc) updated_at=datetime.datetime(2025, 6, 26, 18, 42, 7, tzinfo=datetime.timezone.utc) name='Movie Discovery Resource' urn='prn:jiten:default:movie_disovery' description=None actions={'search': ActionBlockRead(name='search', description=None, attributes=None, v1compat_path=None, v1compat_name=None, id=UUID('a7fa0eda-5e30-4ce7-ae7c-44f710ed6e89'), key='search'), 'detail': ActionBlockRead(name='detail', description=None, attributes=None, v1compat_path=None, v1compat_name=None, id=UUID('b5726aed-a46d-463c-90a9-4fed969dc353'), key='detail')} type_attributes=None attributes={} roles={} relations={} v1compat_path=None v1compat_type=None v1compat_name=None action_groups={}\n"
     ]
    }
   ],
   "source": [
    "for resource_data in resources:\n",
    "    response = await get_or_create_resource(resource_data)\n",
    "    print(response)"
   ]
  },
  {
   "cell_type": "code",
   "execution_count": null,
   "id": "5924b52d",
   "metadata": {},
   "outputs": [],
   "source": [
    "# readonly_permissions = [\n",
    "#     \"document:read\",\n",
    "#     \"movie_disovery:search\",\n",
    "#     \"movie_disovery:detail\"\n",
    "# ]"
   ]
  },
  {
   "cell_type": "markdown",
   "id": "ac28933e",
   "metadata": {},
   "source": [
    "# create user roles"
   ]
  },
  {
   "cell_type": "code",
   "execution_count": 9,
   "id": "e5b569c4",
   "metadata": {},
   "outputs": [],
   "source": [
    "roles = [\n",
    "    {\n",
    "        \"name\": \"Manager\",\n",
    "        \"key\": \"manager\",\n",
    "        \"permissions\": [\n",
    "            \"document:read\",\n",
    "            \"document:create\",\n",
    "            \"document:update\",\n",
    "            \"document:delete\",\n",
    "            \"movie_disovery:search\",\n",
    "            \"movie_disovery:detail\"\n",
    "        ]\n",
    "    }, \n",
    "    {\n",
    "        \"name\": \"Viewer\",\n",
    "        \"key\": \"viewer\",\n",
    "        \"permissions\": [\n",
    "            \"document:read\",\n",
    "            \"movie_disovery:search\",\n",
    "            \"movie_disovery:detail\"\n",
    "        ]\n",
    "    }\n",
    "]"
   ]
  },
  {
   "cell_type": "code",
   "execution_count": 10,
   "id": "d2c5bb28",
   "metadata": {},
   "outputs": [],
   "source": [
    "from permit import PermitApiError\n",
    "\n",
    "async def get_or_create_role(role_data:dict):\n",
    "    _key = role_data.get('key')\n",
    "    try:\n",
    "        _resource = await permit.api.roles.get(_key)\n",
    "    except PermitApiError as e:\n",
    "        if e.status_code == 404:\n",
    "            _resource = await permit.api.roles.create(role_data)\n",
    "        else:\n",
    "            raise e\n",
    "    return _resource"
   ]
  },
  {
   "cell_type": "code",
   "execution_count": 11,
   "id": "66060b82",
   "metadata": {},
   "outputs": [
    {
     "name": "stdout",
     "output_type": "stream",
     "text": [
      "name='Manager' description=None permissions=['document:create', 'movie_disovery:search', 'document:delete', 'movie_disovery:detail', 'document:update', 'document:read'] attributes={} extends=[] granted_to=None v1compat_settings=None v1compat_attributes=None key='manager' id=UUID('bad71f63-0aa4-4282-a685-576664553928') organization_id=UUID('7680023d-5778-431c-9b4f-384741468a14') project_id=UUID('0365bf3b-2a3e-400e-9731-f970b8f29748') environment_id=UUID('54cd4df8-dcfc-4fc6-9f97-ff1ead4e2a3d') created_at=datetime.datetime(2025, 6, 26, 18, 56, 45, tzinfo=datetime.timezone.utc) updated_at=datetime.datetime(2025, 6, 26, 18, 56, 45, tzinfo=datetime.timezone.utc)\n",
      "name='Viewer' description=None permissions=['movie_disovery:detail', 'movie_disovery:search', 'document:read'] attributes={} extends=[] granted_to=None v1compat_settings=None v1compat_attributes=None key='viewer' id=UUID('efdbb460-2eb5-4f86-a02a-6825e3ce5569') organization_id=UUID('7680023d-5778-431c-9b4f-384741468a14') project_id=UUID('0365bf3b-2a3e-400e-9731-f970b8f29748') environment_id=UUID('54cd4df8-dcfc-4fc6-9f97-ff1ead4e2a3d') created_at=datetime.datetime(2025, 6, 26, 18, 56, 47, tzinfo=datetime.timezone.utc) updated_at=datetime.datetime(2025, 6, 26, 18, 56, 47, tzinfo=datetime.timezone.utc)\n"
     ]
    }
   ],
   "source": [
    "for role_data in roles:\n",
    "    response = await get_or_create_role(role_data)\n",
    "    print(response)"
   ]
  },
  {
   "cell_type": "code",
   "execution_count": null,
   "id": "d9c8f0af",
   "metadata": {},
   "outputs": [],
   "source": [
    "# await permit.api.roles.delete(\"viewer\")"
   ]
  },
  {
   "cell_type": "code",
   "execution_count": null,
   "id": "7184fc43",
   "metadata": {},
   "outputs": [],
   "source": [
    "user = User.objects.all().first()\n",
    "display(user)"
   ]
  },
  {
   "cell_type": "code",
   "execution_count": null,
   "id": "c378e879",
   "metadata": {},
   "outputs": [],
   "source": [
    "response = await permit.api.users.assign_role({\n",
    "    \"user\": f\"{user.id}\",\n",
    "    \"role\": \"admin\",\n",
    "    \"tenant\": \"default\"\n",
    "})\n",
    "display(response)"
   ]
  },
  {
   "cell_type": "code",
   "execution_count": null,
   "id": "0e67f666",
   "metadata": {},
   "outputs": [],
   "source": [
    "await permit.check(f\"{user.id}\", \"delete\", \"document\")"
   ]
  },
  {
   "cell_type": "code",
   "execution_count": null,
   "id": "a6f35558",
   "metadata": {},
   "outputs": [],
   "source": [
    "from langgraph.checkpoint.memory import InMemorySaver \n",
    "from ai.supervisors import get_supervisor\n",
    "import uuid \n",
    "\n",
    "checkpointer = InMemorySaver()\n",
    "supervisor = get_supervisor(model=model, checkpointer=checkpointer)"
   ]
  },
  {
   "cell_type": "code",
   "execution_count": null,
   "id": "250a3542",
   "metadata": {},
   "outputs": [],
   "source": [
    "\n",
    "config = {\"configurable\": {\"user_id\": user_id, \"thread_id\": uuid.uuid4()}}\n",
    "\n",
    "response = supervisor.invoke(\n",
    "    {\"messages\": \n",
    "        [\n",
    "            {\"role\": \"user\", \"content\": \"what are my recent documents?\"}\n",
    "        ]\n",
    "    },\n",
    "    config\n",
    ")"
   ]
  }
 ],
 "metadata": {
  "kernelspec": {
   "display_name": ".venv",
   "language": "python",
   "name": "python3"
  },
  "language_info": {
   "codemirror_mode": {
    "name": "ipython",
    "version": 3
   },
   "file_extension": ".py",
   "mimetype": "text/x-python",
   "name": "python",
   "nbconvert_exporter": "python",
   "pygments_lexer": "ipython3",
   "version": "3.13.2"
  }
 },
 "nbformat": 4,
 "nbformat_minor": 5
}
