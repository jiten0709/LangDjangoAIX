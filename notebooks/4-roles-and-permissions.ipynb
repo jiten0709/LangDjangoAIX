{
 "cells": [
  {
   "cell_type": "markdown",
   "id": "4707e62e",
   "metadata": {},
   "source": [
    "# initilization"
   ]
  },
  {
   "cell_type": "code",
   "execution_count": 2,
   "id": "58ee3e9d",
   "metadata": {},
   "outputs": [],
   "source": [
    "import setup  # notebooks/setup.py\n",
    "setup.init()\n",
    "\n",
    "from mypermit import permit_client\n",
    "\n",
    "permit = permit_client\n",
    "\n",
    "model = \"openai/gpt-4.1\"\n",
    "\n",
    "from django.contrib.auth import get_user_model\n",
    "\n",
    "User = get_user_model()"
   ]
  },
  {
   "cell_type": "markdown",
   "id": "68c4e3ad",
   "metadata": {},
   "source": [
    "# list permit users"
   ]
  },
  {
   "cell_type": "code",
   "execution_count": 2,
   "id": "4a6877e3",
   "metadata": {},
   "outputs": [
    {
     "data": {
      "text/plain": [
       "PaginatedResultUserRead(data=[UserRead(key='1', id=UUID('9720f4b9-9e11-4519-865d-3712c1d21d6a'), organization_id=UUID('7680023d-5778-431c-9b4f-384741468a14'), project_id=UUID('0365bf3b-2a3e-400e-9731-f970b8f29748'), environment_id=UUID('54cd4df8-dcfc-4fc6-9f97-ff1ead4e2a3d'), associated_tenants=[], roles=[], created_at=datetime.datetime(2025, 6, 26, 18, 23, 43, tzinfo=datetime.timezone.utc), updated_at=datetime.datetime(2025, 6, 26, 18, 23, 43, tzinfo=datetime.timezone.utc), email=None, first_name='jiten', last_name=None, attributes=None), UserRead(key='5', id=UUID('cfe59bfa-b710-4ea8-b5e2-bc803f96df58'), organization_id=UUID('7680023d-5778-431c-9b4f-384741468a14'), project_id=UUID('0365bf3b-2a3e-400e-9731-f970b8f29748'), environment_id=UUID('54cd4df8-dcfc-4fc6-9f97-ff1ead4e2a3d'), associated_tenants=[], roles=[], created_at=datetime.datetime(2025, 6, 26, 18, 23, 43, tzinfo=datetime.timezone.utc), updated_at=datetime.datetime(2025, 6, 26, 18, 23, 43, tzinfo=datetime.timezone.utc), email=None, first_name='test', last_name=None, attributes=None)], total_count=2, page_count=2)"
      ]
     },
     "execution_count": 2,
     "metadata": {},
     "output_type": "execute_result"
    }
   ],
   "source": [
    "await permit.api.users.list()"
   ]
  },
  {
   "cell_type": "markdown",
   "id": "3d8c872a",
   "metadata": {},
   "source": [
    "# add permit user"
   ]
  },
  {
   "cell_type": "code",
   "execution_count": null,
   "id": "2fa6dc86",
   "metadata": {},
   "outputs": [],
   "source": [
    "for u in User.objects.all():\n",
    "    user_data = {\n",
    "        \"key\": f\"{u.pk}\",\n",
    "        \"first_name\": f\"{u.username}\"\n",
    "    }\n",
    "    response = await permit.api.users.sync(user_data)\n",
    "    print(response)"
   ]
  },
  {
   "cell_type": "code",
   "execution_count": null,
   "id": "5039d894",
   "metadata": {},
   "outputs": [],
   "source": [
    "await permit.check(\"1\", \"read\", \"document\")"
   ]
  },
  {
   "cell_type": "markdown",
   "id": "e0857bf1",
   "metadata": {},
   "source": [
    "# create resources"
   ]
  },
  {
   "cell_type": "code",
   "execution_count": 4,
   "id": "8c26fc42",
   "metadata": {},
   "outputs": [],
   "source": [
    "resources = [\n",
    "    {\n",
    "        \"name\": \"Document\",\n",
    "        \"key\": \"document\",\n",
    "        \"actions\": {\n",
    "            \"read\": {},\n",
    "            \"create\": {},\n",
    "            \"update\": {},\n",
    "            \"delete\": {},\n",
    "        }\n",
    "    },\n",
    "    {\n",
    "        \"name\": \"Movie Discovery Resource\",\n",
    "        \"key\": \"movie_disovery\",\n",
    "        \"actions\": {\n",
    "            \"search\": {},\n",
    "            \"detail\": {},\n",
    "        }\n",
    "    }\n",
    "]"
   ]
  },
  {
   "cell_type": "code",
   "execution_count": 5,
   "id": "cf6e282a",
   "metadata": {},
   "outputs": [],
   "source": [
    "from permit import PermitApiError\n",
    "\n",
    "async def get_or_create_resource(resource_data:dict):\n",
    "    resource_key = resource_data.get('key')\n",
    "    try:\n",
    "        _resource = await permit.api.resources.get(resource_key)\n",
    "    except PermitApiError as e:\n",
    "        if e.status_code == 404:\n",
    "            _resource = await permit.api.resources.create(resource_data)\n",
    "        else:\n",
    "            raise e\n",
    "    return _resource"
   ]
  },
  {
   "cell_type": "code",
   "execution_count": 6,
   "id": "503c7dff",
   "metadata": {},
   "outputs": [
    {
     "name": "stdout",
     "output_type": "stream",
     "text": [
      "key='document' id=UUID('4962d03d-73ee-483a-a899-dffef4983797') organization_id=UUID('7680023d-5778-431c-9b4f-384741468a14') project_id=UUID('0365bf3b-2a3e-400e-9731-f970b8f29748') environment_id=UUID('54cd4df8-dcfc-4fc6-9f97-ff1ead4e2a3d') created_at=datetime.datetime(2025, 6, 25, 14, 30, 17, tzinfo=datetime.timezone.utc) updated_at=datetime.datetime(2025, 6, 25, 14, 30, 17, tzinfo=datetime.timezone.utc) name='Document' urn='prn:jiten:default:document' description=None actions={'delete': ActionBlockRead(name='delete', description=None, attributes=None, v1compat_path=None, v1compat_name=None, id=UUID('1131bdf4-8c8e-428e-8f6e-db7ea211e750'), key='delete'), 'update': ActionBlockRead(name='update', description=None, attributes=None, v1compat_path=None, v1compat_name=None, id=UUID('aeb2ec59-02b9-40d6-8a1b-841ad15aab72'), key='update'), 'create': ActionBlockRead(name='create', description=None, attributes=None, v1compat_path=None, v1compat_name=None, id=UUID('c983ef92-b255-4fb5-affa-d56af06142c7'), key='create'), 'read': ActionBlockRead(name='read', description=None, attributes=None, v1compat_path=None, v1compat_name=None, id=UUID('2c0e26d3-a2fb-460d-98c8-47b54c0ae132'), key='read')} type_attributes=None attributes={} roles={} relations={} v1compat_path=None v1compat_type=None v1compat_name=None action_groups={}\n",
      "key='movie_disovery' id=UUID('2104d1e1-6539-4de5-b241-3de6ea0069b7') organization_id=UUID('7680023d-5778-431c-9b4f-384741468a14') project_id=UUID('0365bf3b-2a3e-400e-9731-f970b8f29748') environment_id=UUID('54cd4df8-dcfc-4fc6-9f97-ff1ead4e2a3d') created_at=datetime.datetime(2025, 6, 26, 18, 42, 7, tzinfo=datetime.timezone.utc) updated_at=datetime.datetime(2025, 6, 26, 18, 42, 7, tzinfo=datetime.timezone.utc) name='Movie Discovery Resource' urn='prn:jiten:default:movie_disovery' description=None actions={'search': ActionBlockRead(name='search', description=None, attributes=None, v1compat_path=None, v1compat_name=None, id=UUID('a7fa0eda-5e30-4ce7-ae7c-44f710ed6e89'), key='search'), 'detail': ActionBlockRead(name='detail', description=None, attributes=None, v1compat_path=None, v1compat_name=None, id=UUID('b5726aed-a46d-463c-90a9-4fed969dc353'), key='detail')} type_attributes=None attributes={} roles={} relations={} v1compat_path=None v1compat_type=None v1compat_name=None action_groups={}\n"
     ]
    }
   ],
   "source": [
    "for resource_data in resources:\n",
    "    response = await get_or_create_resource(resource_data)\n",
    "    print(response)"
   ]
  },
  {
   "cell_type": "code",
   "execution_count": null,
   "id": "5924b52d",
   "metadata": {},
   "outputs": [],
   "source": [
    "# readonly_permissions = [\n",
    "#     \"document:read\",\n",
    "#     \"movie_disovery:search\",\n",
    "#     \"movie_disovery:detail\"\n",
    "# ]"
   ]
  },
  {
   "cell_type": "markdown",
   "id": "ac28933e",
   "metadata": {},
   "source": [
    "# create user roles"
   ]
  },
  {
   "cell_type": "code",
   "execution_count": 9,
   "id": "e5b569c4",
   "metadata": {},
   "outputs": [],
   "source": [
    "roles = [\n",
    "    {\n",
    "        \"name\": \"Manager\",\n",
    "        \"key\": \"manager\",\n",
    "        \"permissions\": [\n",
    "            \"document:read\",\n",
    "            \"document:create\",\n",
    "            \"document:update\",\n",
    "            \"document:delete\",\n",
    "            \"movie_disovery:search\",\n",
    "            \"movie_disovery:detail\"\n",
    "        ]\n",
    "    }, \n",
    "    {\n",
    "        \"name\": \"Viewer\",\n",
    "        \"key\": \"viewer\",\n",
    "        \"permissions\": [\n",
    "            \"document:read\",\n",
    "            \"movie_disovery:search\",\n",
    "            \"movie_disovery:detail\"\n",
    "        ]\n",
    "    }\n",
    "]"
   ]
  },
  {
   "cell_type": "code",
   "execution_count": 10,
   "id": "d2c5bb28",
   "metadata": {},
   "outputs": [],
   "source": [
    "from permit import PermitApiError\n",
    "\n",
    "async def get_or_create_role(role_data:dict):\n",
    "    _key = role_data.get('key')\n",
    "    try:\n",
    "        _resource = await permit.api.roles.get(_key)\n",
    "    except PermitApiError as e:\n",
    "        if e.status_code == 404:\n",
    "            _resource = await permit.api.roles.create(role_data)\n",
    "        else:\n",
    "            raise e\n",
    "    return _resource"
   ]
  },
  {
   "cell_type": "code",
   "execution_count": 11,
   "id": "66060b82",
   "metadata": {},
   "outputs": [
    {
     "name": "stdout",
     "output_type": "stream",
     "text": [
      "name='Manager' description=None permissions=['document:create', 'movie_disovery:search', 'document:delete', 'movie_disovery:detail', 'document:update', 'document:read'] attributes={} extends=[] granted_to=None v1compat_settings=None v1compat_attributes=None key='manager' id=UUID('bad71f63-0aa4-4282-a685-576664553928') organization_id=UUID('7680023d-5778-431c-9b4f-384741468a14') project_id=UUID('0365bf3b-2a3e-400e-9731-f970b8f29748') environment_id=UUID('54cd4df8-dcfc-4fc6-9f97-ff1ead4e2a3d') created_at=datetime.datetime(2025, 6, 26, 18, 56, 45, tzinfo=datetime.timezone.utc) updated_at=datetime.datetime(2025, 6, 26, 18, 56, 45, tzinfo=datetime.timezone.utc)\n",
      "name='Viewer' description=None permissions=['movie_disovery:detail', 'movie_disovery:search', 'document:read'] attributes={} extends=[] granted_to=None v1compat_settings=None v1compat_attributes=None key='viewer' id=UUID('efdbb460-2eb5-4f86-a02a-6825e3ce5569') organization_id=UUID('7680023d-5778-431c-9b4f-384741468a14') project_id=UUID('0365bf3b-2a3e-400e-9731-f970b8f29748') environment_id=UUID('54cd4df8-dcfc-4fc6-9f97-ff1ead4e2a3d') created_at=datetime.datetime(2025, 6, 26, 18, 56, 47, tzinfo=datetime.timezone.utc) updated_at=datetime.datetime(2025, 6, 26, 18, 56, 47, tzinfo=datetime.timezone.utc)\n"
     ]
    }
   ],
   "source": [
    "for role_data in roles:\n",
    "    response = await get_or_create_role(role_data)\n",
    "    print(response)"
   ]
  },
  {
   "cell_type": "code",
   "execution_count": null,
   "id": "d9c8f0af",
   "metadata": {},
   "outputs": [],
   "source": [
    "# await permit.api.roles.delete(\"viewer\")"
   ]
  },
  {
   "cell_type": "code",
   "execution_count": 3,
   "id": "7184fc43",
   "metadata": {},
   "outputs": [
    {
     "data": {
      "text/plain": [
       "<User: jiten>"
      ]
     },
     "metadata": {},
     "output_type": "display_data"
    }
   ],
   "source": [
    "user = User.objects.all().first()\n",
    "display(user)"
   ]
  },
  {
   "cell_type": "code",
   "execution_count": 4,
   "id": "c378e879",
   "metadata": {},
   "outputs": [
    {
     "ename": "PermitNotFoundError",
     "evalue": "We could not find the requested object/s (ErrorCode.NOT_FOUND)\nThe requested data could not be found, we could not find 'Role' with the given filters.\nPlease try again with different filters.\nIf you are sure there is an object with the given filters, contact our support on Slack for further guidance.\nFor more information: https://permit-io.slack.com/ssb/redirect (Request ID: d20ca520ca494c93b72bc153a6135171)",
     "output_type": "error",
     "traceback": [
      "\u001b[31m---------------------------------------------------------------------------\u001b[39m",
      "\u001b[31mPermitNotFoundError\u001b[39m                       Traceback (most recent call last)",
      "\u001b[36mCell\u001b[39m\u001b[36m \u001b[39m\u001b[32mIn[4]\u001b[39m\u001b[32m, line 1\u001b[39m\n\u001b[32m----> \u001b[39m\u001b[32m1\u001b[39m response = \u001b[38;5;28;01mawait\u001b[39;00m permit.api.users.assign_role({\n\u001b[32m      2\u001b[39m     \u001b[33m\"\u001b[39m\u001b[33muser\u001b[39m\u001b[33m\"\u001b[39m: \u001b[33mf\u001b[39m\u001b[33m\"\u001b[39m\u001b[38;5;132;01m{\u001b[39;00muser.id\u001b[38;5;132;01m}\u001b[39;00m\u001b[33m\"\u001b[39m,\n\u001b[32m      3\u001b[39m     \u001b[33m\"\u001b[39m\u001b[33mrole\u001b[39m\u001b[33m\"\u001b[39m: \u001b[33m\"\u001b[39m\u001b[33madmin\u001b[39m\u001b[33m\"\u001b[39m,\n\u001b[32m      4\u001b[39m     \u001b[33m\"\u001b[39m\u001b[33mtenant\u001b[39m\u001b[33m\"\u001b[39m: \u001b[33m\"\u001b[39m\u001b[33mdefault\u001b[39m\u001b[33m\"\u001b[39m\n\u001b[32m      5\u001b[39m })\n\u001b[32m      6\u001b[39m display(response)\n",
      "\u001b[36mFile \u001b[39m\u001b[32m~/jitenStuff/MyGit/LangDjangoAIX/.venv/lib/python3.13/site-packages/permit/api/users.py:316\u001b[39m, in \u001b[36mUsersApi.assign_role\u001b[39m\u001b[34m(self, assignment)\u001b[39m\n\u001b[32m    314\u001b[39m \u001b[38;5;28;01mawait\u001b[39;00m \u001b[38;5;28mself\u001b[39m._ensure_access_level(ApiKeyAccessLevel.ENVIRONMENT_LEVEL_API_KEY)\n\u001b[32m    315\u001b[39m \u001b[38;5;28;01mawait\u001b[39;00m \u001b[38;5;28mself\u001b[39m._ensure_context(ApiContextLevel.ENVIRONMENT)\n\u001b[32m--> \u001b[39m\u001b[32m316\u001b[39m \u001b[38;5;28;01mreturn\u001b[39;00m \u001b[38;5;28;01mawait\u001b[39;00m \u001b[38;5;28mself\u001b[39m.__users.post(\n\u001b[32m    317\u001b[39m     \u001b[33mf\u001b[39m\u001b[33m\"\u001b[39m\u001b[33m/\u001b[39m\u001b[38;5;132;01m{\u001b[39;00massignment.user\u001b[38;5;132;01m}\u001b[39;00m\u001b[33m/roles\u001b[39m\u001b[33m\"\u001b[39m,\n\u001b[32m    318\u001b[39m     model=RoleAssignmentRead,\n\u001b[32m    319\u001b[39m     json=assignment.dict(exclude={\u001b[33m\"\u001b[39m\u001b[33muser\u001b[39m\u001b[33m\"\u001b[39m}),\n\u001b[32m    320\u001b[39m )\n",
      "\u001b[36mFile \u001b[39m\u001b[32m~/jitenStuff/MyGit/LangDjangoAIX/.venv/lib/python3.13/site-packages/permit/exceptions.py:246\u001b[39m, in \u001b[36mhandle_client_error.<locals>.wrapped\u001b[39m\u001b[34m(*args, **kwargs)\u001b[39m\n\u001b[32m    243\u001b[39m \u001b[38;5;129m@functools\u001b[39m.wraps(func)\n\u001b[32m    244\u001b[39m \u001b[38;5;28;01masync\u001b[39;00m \u001b[38;5;28;01mdef\u001b[39;00m\u001b[38;5;250m \u001b[39m\u001b[34mwrapped\u001b[39m(*args, **kwargs):\n\u001b[32m    245\u001b[39m     \u001b[38;5;28;01mtry\u001b[39;00m:\n\u001b[32m--> \u001b[39m\u001b[32m246\u001b[39m         \u001b[38;5;28;01mreturn\u001b[39;00m \u001b[38;5;28;01mawait\u001b[39;00m func(*args, **kwargs)\n\u001b[32m    247\u001b[39m     \u001b[38;5;28;01mexcept\u001b[39;00m aiohttp.ClientError \u001b[38;5;28;01mas\u001b[39;00m err:\n\u001b[32m    248\u001b[39m         logger.error(\u001b[33mf\u001b[39m\u001b[33m\"\u001b[39m\u001b[33mgot client error while sending an http request:\u001b[39m\u001b[38;5;130;01m\\n\u001b[39;00m\u001b[38;5;132;01m{\u001b[39;00merr\u001b[38;5;132;01m}\u001b[39;00m\u001b[33m\"\u001b[39m)\n",
      "\u001b[36mFile \u001b[39m\u001b[32m~/jitenStuff/MyGit/LangDjangoAIX/.venv/lib/python3.13/site-packages/permit/api/base.py:90\u001b[39m, in \u001b[36mSimpleHttpClient.post\u001b[39m\u001b[34m(self, url, model, json, **kwargs)\u001b[39m\n\u001b[32m     88\u001b[39m \u001b[38;5;28mself\u001b[39m._log_request(url, \u001b[33m\"\u001b[39m\u001b[33mPOST\u001b[39m\u001b[33m\"\u001b[39m)\n\u001b[32m     89\u001b[39m \u001b[38;5;28;01masync\u001b[39;00m \u001b[38;5;28;01mwith\u001b[39;00m client.post(url, json=\u001b[38;5;28mself\u001b[39m._prepare_json(json), **kwargs) \u001b[38;5;28;01mas\u001b[39;00m response:\n\u001b[32m---> \u001b[39m\u001b[32m90\u001b[39m     \u001b[38;5;28;01mawait\u001b[39;00m handle_api_error(response)\n\u001b[32m     91\u001b[39m     \u001b[38;5;28mself\u001b[39m._log_response(url, \u001b[33m\"\u001b[39m\u001b[33mPOST\u001b[39m\u001b[33m\"\u001b[39m, response.status)\n\u001b[32m     92\u001b[39m     data = \u001b[38;5;28;01mawait\u001b[39;00m response.json()\n",
      "\u001b[36mFile \u001b[39m\u001b[32m~/jitenStuff/MyGit/LangDjangoAIX/.venv/lib/python3.13/site-packages/permit/exceptions.py:237\u001b[39m, in \u001b[36mhandle_api_error\u001b[39m\u001b[34m(response)\u001b[39m\n\u001b[32m    235\u001b[39m     \u001b[38;5;28;01mraise\u001b[39;00m PermitAlreadyExistsError(response, content, json)\n\u001b[32m    236\u001b[39m \u001b[38;5;28;01melif\u001b[39;00m response.status == \u001b[32m404\u001b[39m:\n\u001b[32m--> \u001b[39m\u001b[32m237\u001b[39m     \u001b[38;5;28;01mraise\u001b[39;00m PermitNotFoundError(response, content, json)\n\u001b[32m    238\u001b[39m \u001b[38;5;28;01melse\u001b[39;00m:\n\u001b[32m    239\u001b[39m     \u001b[38;5;28;01mraise\u001b[39;00m PermitApiDetailedError(response, content, json)\n",
      "\u001b[31mPermitNotFoundError\u001b[39m: We could not find the requested object/s (ErrorCode.NOT_FOUND)\nThe requested data could not be found, we could not find 'Role' with the given filters.\nPlease try again with different filters.\nIf you are sure there is an object with the given filters, contact our support on Slack for further guidance.\nFor more information: https://permit-io.slack.com/ssb/redirect (Request ID: d20ca520ca494c93b72bc153a6135171)"
     ]
    }
   ],
   "source": [
    "response = await permit.api.users.assign_role({\n",
    "    \"user\": f\"{user.id}\",\n",
    "    \"role\": \"admin\",\n",
    "    \"tenant\": \"default\"\n",
    "})\n",
    "display(response)"
   ]
  },
  {
   "cell_type": "code",
   "execution_count": null,
   "id": "0e67f666",
   "metadata": {},
   "outputs": [],
   "source": [
    "await permit.check(f\"{user.pk}\", \"delete\", \"document\")"
   ]
  },
  {
   "cell_type": "code",
   "execution_count": 8,
   "id": "a6f35558",
   "metadata": {},
   "outputs": [],
   "source": [
    "from langgraph.checkpoint.memory import InMemorySaver \n",
    "from ai.supervisor import get_supervisor\n",
    "import uuid \n",
    "\n",
    "checkpointer = InMemorySaver()\n",
    "supervisor = get_supervisor(model=model, checkpointer=checkpointer)"
   ]
  },
  {
   "cell_type": "code",
   "execution_count": 12,
   "id": "250a3542",
   "metadata": {},
   "outputs": [
    {
     "data": {
      "text/plain": [
       "{'messages': [HumanMessage(content='what are my recent documents?', additional_kwargs={}, response_metadata={}, id='aaf8e5d9-78e9-4a9b-acad-ab463ebcadc6'),\n",
       "  AIMessage(content='', additional_kwargs={'tool_calls': [{'id': 'call_BlFxa4J8LOi6P03HVy7K1YEu', 'function': {'arguments': '{}', 'name': 'transfer_to_document-assistant'}, 'type': 'function'}], 'refusal': None}, response_metadata={'token_usage': {'completion_tokens': 14, 'prompt_tokens': 92, 'total_tokens': 106, 'completion_tokens_details': {'accepted_prediction_tokens': 0, 'audio_tokens': 0, 'reasoning_tokens': 0, 'rejected_prediction_tokens': 0}, 'prompt_tokens_details': {'audio_tokens': 0, 'cached_tokens': 0}}, 'model_name': 'gpt-4.1-2025-04-14', 'system_fingerprint': 'fp_07e970ab25', 'id': 'chatcmpl-Bn18s5dcYI0b95H4W0XuvnEwakASc', 'service_tier': None, 'finish_reason': 'tool_calls', 'logprobs': None}, name='supervisor', id='run--93647e32-ca18-4653-adc0-a6b0ea3f889c-0', tool_calls=[{'name': 'transfer_to_document-assistant', 'args': {}, 'id': 'call_BlFxa4J8LOi6P03HVy7K1YEu', 'type': 'tool_call'}], usage_metadata={'input_tokens': 92, 'output_tokens': 14, 'total_tokens': 106, 'input_token_details': {'audio': 0, 'cache_read': 0}, 'output_token_details': {'audio': 0, 'reasoning': 0}}),\n",
       "  ToolMessage(content='Successfully transferred to document-assistant', name='transfer_to_document-assistant', id='ea629ab3-1f65-40b5-aa03-9f4adfeeb4d2', tool_call_id='call_BlFxa4J8LOi6P03HVy7K1YEu'),\n",
       "  AIMessage(content='Your most recent document is titled \"Hello world by Jiten.\" If you need more details or want to see additional recent documents, just let me know!', additional_kwargs={'refusal': None}, response_metadata={'token_usage': {'completion_tokens': 33, 'prompt_tokens': 425, 'total_tokens': 458, 'completion_tokens_details': {'accepted_prediction_tokens': 0, 'audio_tokens': 0, 'reasoning_tokens': 0, 'rejected_prediction_tokens': 0}, 'prompt_tokens_details': {'audio_tokens': 0, 'cached_tokens': 0}}, 'model_name': 'gpt-4.1-2025-04-14', 'system_fingerprint': 'fp_07e970ab25', 'id': 'chatcmpl-Bn18vFWw9aoDTUl4HwnXIokc0Pqi5', 'service_tier': None, 'finish_reason': 'stop', 'logprobs': None}, name='document-assistant', id='run--6e6634d8-c620-4145-910e-8e5a659206a8-0', usage_metadata={'input_tokens': 425, 'output_tokens': 33, 'total_tokens': 458, 'input_token_details': {'audio': 0, 'cache_read': 0}, 'output_token_details': {'audio': 0, 'reasoning': 0}}),\n",
       "  AIMessage(content='Transferring back to supervisor', additional_kwargs={}, response_metadata={'__is_handoff_back': True}, name='document-assistant', id='9937d1f5-3e5d-42be-9d0d-237966a12240', tool_calls=[{'name': 'transfer_back_to_supervisor', 'args': {}, 'id': 'bbfb712a-b350-4fdb-b880-c4ce8412272a', 'type': 'tool_call'}]),\n",
       "  ToolMessage(content='Successfully transferred back to supervisor', name='transfer_back_to_supervisor', id='d62ff660-e847-4b07-887b-5237ad847b20', tool_call_id='bbfb712a-b350-4fdb-b880-c4ce8412272a'),\n",
       "  AIMessage(content='Your most recent document is titled \"Hello world by Jiten.\" If you need more details or want to see more recent documents, just let me know!', additional_kwargs={'refusal': None}, response_metadata={'token_usage': {'completion_tokens': 33, 'prompt_tokens': 211, 'total_tokens': 244, 'completion_tokens_details': {'accepted_prediction_tokens': 0, 'audio_tokens': 0, 'reasoning_tokens': 0, 'rejected_prediction_tokens': 0}, 'prompt_tokens_details': {'audio_tokens': 0, 'cached_tokens': 0}}, 'model_name': 'gpt-4.1-2025-04-14', 'system_fingerprint': 'fp_07e970ab25', 'id': 'chatcmpl-Bn18wuENYRxnWq3VIx8s4jLz4rSIg', 'service_tier': None, 'finish_reason': 'stop', 'logprobs': None}, name='supervisor', id='run--544b3972-4739-488d-8fe7-9f7a24bacaa0-0', usage_metadata={'input_tokens': 211, 'output_tokens': 33, 'total_tokens': 244, 'input_token_details': {'audio': 0, 'cache_read': 0}, 'output_token_details': {'audio': 0, 'reasoning': 0}})]}"
      ]
     },
     "metadata": {},
     "output_type": "display_data"
    }
   ],
   "source": [
    "\n",
    "config = {\"configurable\": {\"user_id\": 1, \"thread_id\": uuid.uuid4()}}\n",
    "\n",
    "response = supervisor.invoke(\n",
    "    {\"messages\": \n",
    "        [\n",
    "            {\"role\": \"user\", \"content\": \"what are my recent documents?\"}\n",
    "        ]\n",
    "    },\n",
    "    config\n",
    ")\n",
    "\n",
    "display(response)"
   ]
  },
  {
   "cell_type": "code",
   "execution_count": null,
   "id": "d36e6323",
   "metadata": {},
   "outputs": [],
   "source": []
  }
 ],
 "metadata": {
  "kernelspec": {
   "display_name": ".venv",
   "language": "python",
   "name": "python3"
  },
  "language_info": {
   "codemirror_mode": {
    "name": "ipython",
    "version": 3
   },
   "file_extension": ".py",
   "mimetype": "text/x-python",
   "name": "python",
   "nbconvert_exporter": "python",
   "pygments_lexer": "ipython3",
   "version": "3.13.2"
  }
 },
 "nbformat": 4,
 "nbformat_minor": 5
}
