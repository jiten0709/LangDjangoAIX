{
 "cells": [
  {
   "cell_type": "markdown",
   "id": "204bba12",
   "metadata": {},
   "source": [
    "# initilization"
   ]
  },
  {
   "cell_type": "code",
   "execution_count": 1,
   "id": "a555f8e8",
   "metadata": {},
   "outputs": [],
   "source": [
    "import setup  # notebooks/setup.py\n",
    "setup.init()"
   ]
  },
  {
   "cell_type": "code",
   "execution_count": 2,
   "id": "23353473",
   "metadata": {},
   "outputs": [],
   "source": [
    "from ai.llm import get_openai_model"
   ]
  },
  {
   "cell_type": "code",
   "execution_count": 3,
   "id": "489c7c23",
   "metadata": {},
   "outputs": [
    {
     "data": {
      "text/plain": [
       "AIMessage(content=\"I'm ChatGPT, an AI language model created by OpenAI. I'm here to help answer your questions, provide information, and assist with a wide range of topics. How can I help you today?\", additional_kwargs={'refusal': None}, response_metadata={'token_usage': {'completion_tokens': 41, 'prompt_tokens': 11, 'total_tokens': 52, 'completion_tokens_details': {'accepted_prediction_tokens': 0, 'audio_tokens': 0, 'reasoning_tokens': 0, 'rejected_prediction_tokens': 0}, 'prompt_tokens_details': {'audio_tokens': 0, 'cached_tokens': 0}}, 'model_name': 'gpt-4.1-2025-04-14', 'system_fingerprint': 'fp_07e970ab25', 'id': 'chatcmpl-Bmhu8LdXmKUJ6MbpI7nRKqXeobwuQ', 'service_tier': None, 'finish_reason': 'stop', 'logprobs': None}, id='run--0d05e060-ee78-4ada-bf85-efaadc418a7a-0', usage_metadata={'input_tokens': 11, 'output_tokens': 41, 'total_tokens': 52, 'input_token_details': {'audio': 0, 'cache_read': 0}, 'output_token_details': {'audio': 0, 'reasoning': 0}})"
      ]
     },
     "execution_count": 3,
     "metadata": {},
     "output_type": "execute_result"
    }
   ],
   "source": [
    "model = get_openai_model()\n",
    "model.invoke(\"Who are you?\")"
   ]
  },
  {
   "cell_type": "code",
   "execution_count": null,
   "id": "29946ae4",
   "metadata": {},
   "outputs": [],
   "source": []
  }
 ],
 "metadata": {
  "kernelspec": {
   "display_name": ".venv",
   "language": "python",
   "name": "python3"
  },
  "language_info": {
   "codemirror_mode": {
    "name": "ipython",
    "version": 3
   },
   "file_extension": ".py",
   "mimetype": "text/x-python",
   "name": "python",
   "nbconvert_exporter": "python",
   "pygments_lexer": "ipython3",
   "version": "3.13.2"
  }
 },
 "nbformat": 4,
 "nbformat_minor": 5
}
