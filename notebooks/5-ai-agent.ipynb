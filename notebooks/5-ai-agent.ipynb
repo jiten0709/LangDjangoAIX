{
 "cells": [
  {
   "cell_type": "code",
   "execution_count": 1,
   "id": "a36bf25e",
   "metadata": {},
   "outputs": [],
   "source": [
    "import setup  # notebooks/setup.py\n",
    "setup.init()\n",
    "from ai.agents import get_document_agent"
   ]
  },
  {
   "cell_type": "code",
   "execution_count": 2,
   "id": "80571c5a",
   "metadata": {},
   "outputs": [],
   "source": [
    "agent = get_document_agent()"
   ]
  },
  {
   "cell_type": "code",
   "execution_count": 3,
   "id": "c37a6c59",
   "metadata": {},
   "outputs": [],
   "source": [
    "import uuid \n",
    "config = {\"configurable\": {\"user_id\": \"1\", \"thread_id\": uuid.uuid4()}}\n",
    "\n",
    "response = agent.invoke(\n",
    "    {\"messages\": \n",
    "        [\n",
    "            {\"role\": \"user\", \"content\": \"what are my recent documents?\"}\n",
    "        ]\n",
    "    },\n",
    "    config\n",
    ")"
   ]
  },
  {
   "cell_type": "code",
   "execution_count": 4,
   "id": "7b43af0c",
   "metadata": {},
   "outputs": [
    {
     "name": "stdout",
     "output_type": "stream",
     "text": [
      "0 what are my recent documents? content='what are my recent documents?' additional_kwargs={} response_metadata={} id='0bc1ba26-c324-46c3-8eb5-b465ce921dbd'\n",
      "\n",
      "\n",
      "\n",
      "2 Error: Exception('You do not have permission to list all documents.')\n",
      " Please fix your mistakes. content=\"Error: Exception('You do not have permission to list all documents.')\\n Please fix your mistakes.\" name='list_documents' id='efdd85e2-2b1d-4c8b-9cf2-9715c961f27c' tool_call_id='call_MUgjZlB0H1e15CVr0ijdpXdc' status='error'\n",
      "\n",
      "\n",
      "\n",
      "3 I'm unable to retrieve a list of all your recent documents due to permission restrictions. However, if you're looking for a specific document or need help with a particular topic, please let me know what you're searching for, and I can assist you in finding or managing your documents! content=\"I'm unable to retrieve a list of all your recent documents due to permission restrictions. However, if you're looking for a specific document or need help with a particular topic, please let me know what you're searching for, and I can assist you in finding or managing your documents!\" additional_kwargs={'refusal': None} response_metadata={'token_usage': {'completion_tokens': 56, 'prompt_tokens': 393, 'total_tokens': 449, 'completion_tokens_details': {'accepted_prediction_tokens': 0, 'audio_tokens': 0, 'reasoning_tokens': 0, 'rejected_prediction_tokens': 0}, 'prompt_tokens_details': {'audio_tokens': 0, 'cached_tokens': 0}}, 'model_name': 'gpt-4.1-2025-04-14', 'system_fingerprint': 'fp_07e970ab25', 'id': 'chatcmpl-Bmk7j7O1la9bzJCDfQYm9g9ZMZaiq', 'service_tier': None, 'finish_reason': 'stop', 'logprobs': None} name='document-assistant' id='run--768cb867-c0d7-41db-a132-2a55ad520e47-0' usage_metadata={'input_tokens': 393, 'output_tokens': 56, 'total_tokens': 449, 'input_token_details': {'audio': 0, 'cache_read': 0}, 'output_token_details': {'audio': 0, 'reasoning': 0}}\n",
      "\n",
      "\n",
      "\n"
     ]
    }
   ],
   "source": [
    "for i, msg in enumerate(response['messages']):\n",
    "    if msg.content:\n",
    "        print(i, msg.content, msg)\n",
    "        print(\"\\n\\n\")"
   ]
  },
  {
   "cell_type": "code",
   "execution_count": null,
   "id": "42989aa8",
   "metadata": {},
   "outputs": [],
   "source": []
  }
 ],
 "metadata": {
  "kernelspec": {
   "display_name": ".venv",
   "language": "python",
   "name": "python3"
  },
  "language_info": {
   "codemirror_mode": {
    "name": "ipython",
    "version": 3
   },
   "file_extension": ".py",
   "mimetype": "text/x-python",
   "name": "python",
   "nbconvert_exporter": "python",
   "pygments_lexer": "ipython3",
   "version": "3.13.2"
  }
 },
 "nbformat": 4,
 "nbformat_minor": 5
}
