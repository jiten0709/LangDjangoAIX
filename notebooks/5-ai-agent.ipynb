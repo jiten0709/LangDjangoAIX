{
 "cells": [
  {
   "cell_type": "markdown",
   "id": "bb8cc442",
   "metadata": {},
   "source": [
    "# initilization"
   ]
  },
  {
   "cell_type": "code",
   "execution_count": 18,
   "id": "a36bf25e",
   "metadata": {},
   "outputs": [],
   "source": [
    "import setup  # notebooks/setup.py\n",
    "setup.init()\n",
    "\n",
    "model = \"openai/gpt-4.1\"\n",
    "\n",
    "from IPython.display import display, Markdown\n",
    "from ai.agents import get_document_agent\n",
    "from ai.supervisor import get_supervisor\n",
    "from django.contrib.auth import get_user_model\n",
    "from langgraph.checkpoint.memory import InMemorySaver \n",
    "import uuid \n",
    "\n",
    "agent = get_document_agent()\n",
    "checkpointer = InMemorySaver()\n",
    "supervisor = get_supervisor(model=model, checkpointer=checkpointer)"
   ]
  },
  {
   "cell_type": "markdown",
   "id": "4e8d6c57",
   "metadata": {},
   "source": [
    "# setting user"
   ]
  },
  {
   "cell_type": "code",
   "execution_count": 14,
   "id": "888e8c82",
   "metadata": {},
   "outputs": [
    {
     "data": {
      "text/plain": [
       "<User: jiten>"
      ]
     },
     "metadata": {},
     "output_type": "display_data"
    }
   ],
   "source": [
    "User = get_user_model()\n",
    "user_obj = User.objects.get(id=1)\n",
    "display(user_obj)"
   ]
  },
  {
   "cell_type": "code",
   "execution_count": 15,
   "id": "e5682cab",
   "metadata": {},
   "outputs": [],
   "source": [
    "config = {\"configurable\": {\"user_id\": f\"{user_obj.pk}\", \"thread_id\": uuid.uuid4()}}"
   ]
  },
  {
   "cell_type": "markdown",
   "id": "232ce3b1",
   "metadata": {},
   "source": [
    "# function for using agent"
   ]
  },
  {
   "cell_type": "code",
   "execution_count": 24,
   "id": "4226c6ea",
   "metadata": {},
   "outputs": [],
   "source": [
    "def use_agent(user_input):\n",
    "    response = supervisor.invoke(\n",
    "        {\"messages\": \n",
    "            [\n",
    "                {\"role\": \"user\", \"content\": user_input}\n",
    "            ]\n",
    "        },\n",
    "        config=config\n",
    "    )\n",
    "    \n",
    "    return display(Markdown(response['messages'][-1].content))"
   ]
  },
  {
   "cell_type": "markdown",
   "id": "40b023dc",
   "metadata": {},
   "source": [
    "# sending input to agent"
   ]
  },
  {
   "cell_type": "code",
   "execution_count": 20,
   "id": "d85f2471",
   "metadata": {},
   "outputs": [
    {
     "name": "stdout",
     "output_type": "stream",
     "text": [
      "Searching with user 1\n"
     ]
    },
    {
     "data": {
      "text/markdown": [
       "I've assigned your question about the most recent Lord of the Rings movie to the movie discovery assistant. Here’s the answer:\n",
       "\n",
       "The most recent major film in the Lord of the Rings universe is \"The Hobbit: The Battle of the Five Armies\" (2014), which is part of The Hobbit trilogy—a prequel to the original Lord of the Rings trilogy. \n",
       "\n",
       "If you’re interested in TV series, \"The Lord of the Rings: The Rings of Power\" was released on Amazon Prime in 2022. Let me know if you need more details or updates!"
      ],
      "text/plain": [
       "<IPython.core.display.Markdown object>"
      ]
     },
     "metadata": {},
     "output_type": "display_data"
    },
    {
     "data": {
      "text/plain": [
       "'I\\'ve assigned your question about the most recent Lord of the Rings movie to the movie discovery assistant. Here’s the answer:\\n\\nThe most recent major film in the Lord of the Rings universe is \"The Hobbit: The Battle of the Five Armies\" (2014), which is part of The Hobbit trilogy—a prequel to the original Lord of the Rings trilogy. \\n\\nIf you’re interested in TV series, \"The Lord of the Rings: The Rings of Power\" was released on Amazon Prime in 2022. Let me know if you need more details or updates!'"
      ]
     },
     "execution_count": 20,
     "metadata": {},
     "output_type": "execute_result"
    }
   ],
   "source": [
    "user_input = \"What is the most recent Lord of the Rings movie?\"\n",
    "use_agent(user_input)"
   ]
  },
  {
   "cell_type": "markdown",
   "id": "7634a762",
   "metadata": {},
   "source": [
    "# saving as document"
   ]
  },
  {
   "cell_type": "code",
   "execution_count": 21,
   "id": "7b43af0c",
   "metadata": {},
   "outputs": [
    {
     "data": {
      "text/markdown": [
       "I've assigned the task of saving the most recent Lord of the Rings movie as a new document to the document management assistant. The information is now stored as a document. If you need to view, edit, or share this document, just let me know!"
      ],
      "text/plain": [
       "<IPython.core.display.Markdown object>"
      ]
     },
     "metadata": {},
     "output_type": "display_data"
    },
    {
     "data": {
      "text/plain": [
       "\"I've assigned the task of saving the most recent Lord of the Rings movie as a new document to the document management assistant. The information is now stored as a document. If you need to view, edit, or share this document, just let me know!\""
      ]
     },
     "execution_count": 21,
     "metadata": {},
     "output_type": "execute_result"
    }
   ],
   "source": [
    "user_input = \"Save that movie as a new document\"\n",
    "use_agent(user_input)"
   ]
  },
  {
   "cell_type": "markdown",
   "id": "ac038c01",
   "metadata": {},
   "source": [
    "# fetching documents"
   ]
  },
  {
   "cell_type": "code",
   "execution_count": 25,
   "id": "42989aa8",
   "metadata": {},
   "outputs": [
    {
     "data": {
      "text/markdown": [
       "You currently have the following document:\n",
       "\n",
       "1. The Most Recent Lord of the Rings Movie\n",
       "\n",
       "If you’d like to view, edit, or delete this document, just let me know!"
      ],
      "text/plain": [
       "<IPython.core.display.Markdown object>"
      ]
     },
     "metadata": {},
     "output_type": "display_data"
    }
   ],
   "source": [
    "user_input = \"what are the documents I have?\"\n",
    "use_agent(user_input)"
   ]
  },
  {
   "cell_type": "markdown",
   "id": "086f3a5e",
   "metadata": {},
   "source": [
    "# giving agent some actions to perform"
   ]
  },
  {
   "cell_type": "code",
   "execution_count": 23,
   "id": "ffc1d67d",
   "metadata": {},
   "outputs": [
    {
     "data": {
      "text/markdown": [
       "The document named \"Hello world by Jiten\" has been deleted. If you need to manage any other documents or need further assistance, just let me know!"
      ],
      "text/plain": [
       "<IPython.core.display.Markdown object>"
      ]
     },
     "metadata": {},
     "output_type": "display_data"
    },
    {
     "data": {
      "text/plain": [
       "'The document named \"Hello world by Jiten\" has been deleted. If you need to manage any other documents or need further assistance, just let me know!'"
      ]
     },
     "execution_count": 23,
     "metadata": {},
     "output_type": "execute_result"
    }
   ],
   "source": [
    "user_input = \"delete the document named 'Hello by Jiten'\"\n",
    "use_agent(user_input)"
   ]
  },
  {
   "cell_type": "code",
   "execution_count": null,
   "id": "55688c66",
   "metadata": {},
   "outputs": [],
   "source": []
  }
 ],
 "metadata": {
  "kernelspec": {
   "display_name": ".venv",
   "language": "python",
   "name": "python3"
  },
  "language_info": {
   "codemirror_mode": {
    "name": "ipython",
    "version": 3
   },
   "file_extension": ".py",
   "mimetype": "text/x-python",
   "name": "python",
   "nbconvert_exporter": "python",
   "pygments_lexer": "ipython3",
   "version": "3.13.2"
  }
 },
 "nbformat": 4,
 "nbformat_minor": 5
}
