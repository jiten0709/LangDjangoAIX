{
 "cells": [
  {
   "cell_type": "markdown",
   "id": "205cc03f",
   "metadata": {},
   "source": [
    "# initilize"
   ]
  },
  {
   "cell_type": "code",
   "execution_count": 1,
   "id": "91ccbf89",
   "metadata": {},
   "outputs": [],
   "source": [
    "import setup\n",
    "setup.init()"
   ]
  },
  {
   "cell_type": "code",
   "execution_count": 6,
   "id": "15cab6a4",
   "metadata": {},
   "outputs": [],
   "source": [
    "from IPython.display import display\n",
    "from django.contrib.auth.models import Permission"
   ]
  },
  {
   "cell_type": "markdown",
   "id": "5a7954d5",
   "metadata": {},
   "source": [
    "# user model"
   ]
  },
  {
   "cell_type": "markdown",
   "id": "6018a102",
   "metadata": {},
   "source": [
    "## init"
   ]
  },
  {
   "cell_type": "code",
   "execution_count": 3,
   "id": "026a55a0",
   "metadata": {},
   "outputs": [
    {
     "data": {
      "text/plain": [
       "<QuerySet [<User: jiten>, <User: luffy>, <User: ace>]>"
      ]
     },
     "metadata": {},
     "output_type": "display_data"
    }
   ],
   "source": [
    "from django.contrib.auth import get_user_model\n",
    "\n",
    "User = get_user_model()\n",
    "\n",
    "users = User.objects.all()[:3]\n",
    "\n",
    "display(users)"
   ]
  },
  {
   "cell_type": "markdown",
   "id": "73508f9e",
   "metadata": {},
   "source": [
    "## check for user role"
   ]
  },
  {
   "cell_type": "code",
   "execution_count": 7,
   "id": "b6454fc3",
   "metadata": {},
   "outputs": [
    {
     "data": {
      "text/plain": [
       "<User: jiten>"
      ]
     },
     "metadata": {},
     "output_type": "display_data"
    }
   ],
   "source": [
    "superuser = User.objects.filter(is_superuser=True).first()\n",
    "display(superuser)"
   ]
  },
  {
   "cell_type": "code",
   "execution_count": 9,
   "id": "3a96ee9e",
   "metadata": {},
   "outputs": [
    {
     "data": {
      "text/plain": [
       "<User: luffy>"
      ]
     },
     "metadata": {},
     "output_type": "display_data"
    }
   ],
   "source": [
    "staff = User.objects.filter(is_superuser=False, is_staff=True).first()\n",
    "display(staff)"
   ]
  },
  {
   "cell_type": "markdown",
   "id": "e404d7d6",
   "metadata": {},
   "source": [
    "# permissions"
   ]
  },
  {
   "cell_type": "markdown",
   "id": "27b290c6",
   "metadata": {},
   "source": [
    "## get user permissions"
   ]
  },
  {
   "cell_type": "code",
   "execution_count": null,
   "id": "5f80ea9d",
   "metadata": {},
   "outputs": [
    {
     "data": {
      "text/plain": [
       "<QuerySet []>"
      ]
     },
     "execution_count": 10,
     "metadata": {},
     "output_type": "execute_result"
    }
   ],
   "source": [
    "if staff is not None:\n",
    "\tstaff.user_permissions.all()\n",
    "else:\n",
    "\tprint(\"No staff user found.\")"
   ]
  },
  {
   "cell_type": "markdown",
   "id": "a464909e",
   "metadata": {},
   "source": [
    "## add permissions"
   ]
  },
  {
   "cell_type": "code",
   "execution_count": null,
   "id": "17e3005a",
   "metadata": {},
   "outputs": [
    {
     "name": "stdout",
     "output_type": "stream",
     "text": [
      "view_logentry\n",
      "view_group\n",
      "view_permission\n",
      "view_user\n",
      "view_contenttype\n",
      "view_document\n",
      "view_session\n"
     ]
    }
   ],
   "source": [
    "view_permissions = Permission.objects.filter(codename__icontains=\"VIEW\")\n",
    "if staff is not None:\n",
    "    for obj in view_permissions:\n",
    "        print(obj.codename)\n",
    "        staff.user_permissions.add(obj)\n",
    "else:\n",
    "    print(\"No staff user found.\")"
   ]
  },
  {
   "cell_type": "markdown",
   "id": "1219579e",
   "metadata": {},
   "source": [
    "## remove permissions"
   ]
  },
  {
   "cell_type": "code",
   "execution_count": null,
   "id": "05ba1259",
   "metadata": {},
   "outputs": [
    {
     "name": "stdout",
     "output_type": "stream",
     "text": [
      "add_document\n",
      "change_document\n",
      "delete_document\n",
      "view_document\n"
     ]
    }
   ],
   "source": [
    "document_permissions = Permission.objects.filter(codename__endswith=\"document\")\n",
    "if staff is not None:\n",
    "    for obj in document_permissions:\n",
    "        print(obj.codename)\n",
    "        staff.user_permissions.remove(obj)\n",
    "else:\n",
    "    print(\"No staff user found.\")"
   ]
  },
  {
   "cell_type": "markdown",
   "id": "eaef1e9a",
   "metadata": {},
   "source": [
    "## mix permissions"
   ]
  },
  {
   "cell_type": "code",
   "execution_count": null,
   "id": "50c5efad",
   "metadata": {},
   "outputs": [],
   "source": [
    "new_permissions = view_permissions | document_permissions\n",
    "if staff is not None:\n",
    "    for obj in new_permissions:\n",
    "        print(obj.codename)\n",
    "        staff.user_permissions.add(obj)\n",
    "else:\n",
    "    print(\"No staff user found.\")"
   ]
  }
 ],
 "metadata": {
  "kernelspec": {
   "display_name": ".venv",
   "language": "python",
   "name": "python3"
  },
  "language_info": {
   "codemirror_mode": {
    "name": "ipython",
    "version": 3
   },
   "file_extension": ".py",
   "mimetype": "text/x-python",
   "name": "python",
   "nbconvert_exporter": "python",
   "pygments_lexer": "ipython3",
   "version": "3.13.2"
  }
 },
 "nbformat": 4,
 "nbformat_minor": 5
}
